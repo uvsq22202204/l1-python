{
 "cells": [
  {
   "cell_type": "markdown",
   "id": "0f68f509",
   "metadata": {},
   "source": [
    "**Exercice 1 :** Supposons que vous souhaitiez développer un programme permettant à un élève de première année de s'entraîner à la soustraction. Le programme génère de manière aléatoire deux entiers d'un seul chiffre, number1 et number2, avec number1 >= number2, et pose à l'élève une question telle que \"Quel est 9 - 2 ?\" Après que l'élève ait saisi la réponse, le programme affiche un message indiquant si elle est correcte. Ecrire un programme qui génère cinq questions et, après qu'un élève y ait répondu, rapporte le nombre de réponses correctes. Le programme affiche également le temps passé sur le test, comme le montre l'exécution d'exemple. Pour mesurer le temps, il faut importer la bibliothèque *Time* (exemple d'utilisation: temps_de_depart = time.time())."
   ]
  },
  {
   "cell_type": "code",
   "execution_count": 27,
   "id": "6211852e",
   "metadata": {},
   "outputs": [
    {
     "name": "stdout",
     "output_type": "stream",
     "text": [
      "Résultat: 5 Temps: 7.871597766876221\n"
     ]
    }
   ],
   "source": [
    "import time\n",
    "import random\n",
    "\n",
    "number1 = 0\n",
    "number2 = 0\n",
    "total = 0\n",
    "start = time.time()\n",
    "for i in range(5):\n",
    "    number1 = 1\n",
    "    number2 = 5\n",
    "    while number1 < number2: \n",
    "        number1 = random.randint(1, 9)\n",
    "        number2 = random.randint(1, 9)\n",
    "    a = int(input(str(number1) +'-'+ str(number2)))\n",
    "    reponse = number1 - number2\n",
    "    if a == reponse:\n",
    "        total += 1\n",
    "    else:\n",
    "        total += 0\n",
    "end = time.time()\n",
    "\n",
    "\n",
    "print('Résultat:',total, 'Temps:',(end - start))\n"
   ]
  },
  {
   "cell_type": "markdown",
   "id": "03509ef4",
   "metadata": {},
   "source": [
    "**Exercice 2 :**  L'exemple précédent exécute la boucle cinq fois. Si vous souhaitez que l'utilisateur décide s'il souhaite prendre une autre question, vous pouvez proposer une confirmation à l'utilisateur (en tapant 'Y' pour continuer)."
   ]
  },
  {
   "cell_type": "code",
   "execution_count": 34,
   "id": "1b568d44",
   "metadata": {},
   "outputs": [
    {
     "name": "stdout",
     "output_type": "stream",
     "text": [
      "Résultat: 11 / 11 Temps: 26.350406169891357\n"
     ]
    }
   ],
   "source": [
    "import time\n",
    "import random\n",
    "\n",
    "number1 = 0\n",
    "number2 = 0\n",
    "juste = 0\n",
    "total = 0\n",
    "o = input('Y/N')\n",
    "start = time.time()\n",
    "while o[0] == 'Y':\n",
    "    number1 = 1\n",
    "    number2 = 5\n",
    "    while number1 < number2: \n",
    "        number1 = random.randint(1, 9)\n",
    "        number2 = random.randint(1, 9)\n",
    "    a = int(input(str(number1) +'-'+ str(number2)))\n",
    "    reponse = number1 - number2\n",
    "    if a == reponse:\n",
    "        juste += 1\n",
    "        total += 1\n",
    "        o = input('Y/N')\n",
    "    else:\n",
    "        juste += 0\n",
    "        total += 1\n",
    "        o = input('Y/N')\n",
    "end = time.time()\n",
    "\n",
    "\n",
    "print('Résultat:',juste,'/', total, 'Temps:',(end - start))\n"
   ]
  },
  {
   "cell_type": "markdown",
   "id": "9535fb00",
   "metadata": {},
   "source": [
    "**Exercice 3 :**  (Trouver les nombres divisibles par 5 et 6) Écrivez un programme qui affiche, dix nombres par ligne, tous les nombres de 100 à 1 000 qui sont divisibles par 5 et 6. Les nombres sont séparés par exactement un espace."
   ]
  },
  {
   "cell_type": "code",
   "execution_count": 11,
   "id": "8a8b97fa",
   "metadata": {},
   "outputs": [
    {
     "name": "stdout",
     "output_type": "stream",
     "text": [
      "100 102 105 108 110 114 115 120 125 126 130 132 135 138 140 144 145 150 155 156 160 162 165 168 170 174 175 180 185 186 190 192 195 198 200 204 205 210 215 216 220 222 225 228 230 234 235 240 245 246 250 252 255 258 260 264 265 270 275 276 280 282 285 288 290 294 295 300 305 306 310 312 315 318 320 324 325 330 335 336 340 342 345 348 350 354 355 360 365 366 370 372 375 378 380 384 385 390 395 396 400 402 405 408 410 414 415 420 425 426 430 432 435 438 440 444 445 450 455 456 460 462 465 468 470 474 475 480 485 486 490 492 495 498 500 504 505 510 515 516 520 522 525 528 530 534 535 540 545 546 550 552 555 558 560 564 565 570 575 576 580 582 585 588 590 594 595 600 605 606 610 612 615 618 620 624 625 630 635 636 640 642 645 648 650 654 655 660 665 666 670 672 675 678 680 684 685 690 695 696 700 702 705 708 710 714 715 720 725 726 730 732 735 738 740 744 745 750 755 756 760 762 765 768 770 774 775 780 785 786 790 792 795 798 800 804 805 810 815 816 820 822 825 828 830 834 835 840 845 846 850 852 855 858 860 864 865 870 875 876 880 882 885 888 890 894 895 900 905 906 910 912 915 918 920 924 925 930 935 936 940 942 945 948 950 954 955 960 965 966 970 972 975 978 980 984 985 990 995 996 1000 "
     ]
    }
   ],
   "source": [
    "\n",
    "for i in range (100 , 1001):\n",
    "    if i % 5 == 0 or i % 6 == 0:\n",
    "        print(i, end= \" \")"
   ]
  },
  {
   "cell_type": "markdown",
   "id": "1f3d3536",
   "metadata": {},
   "source": [
    "**Exercice 4 :**  Écrivez un programme qui joue au populaire jeu ciseaux-pierre-papier. (Un ciseau peut couper du papier, une pierre peut écraser un ciseau, et du papier peut envelopper une pierre.) Le programme génère aléatoirement un nombre 0, 1 ou 2, représentant respectivement ciseaux, pierre et papier. Ensuite, le programme demande à l'utilisateur d'entrer un nombre 0, 1 ou 2, puis affiche un message indiquant si l'utilisateur gagne, perd ou obtient un match nul par rapport à l'ordinateur. Le programme  permet à l'utilisateur de jouer en continu jusqu'à ce que l'utilisateur ou l'ordinateur gagne plus de deux fois."
   ]
  },
  {
   "cell_type": "code",
   "execution_count": 10,
   "id": "463e2c05",
   "metadata": {},
   "outputs": [
    {
     "name": "stdout",
     "output_type": "stream",
     "text": [
      "match nul\n",
      "perdu\n",
      "perdu\n",
      "match nul\n",
      "match nul\n",
      "match nul\n",
      "perdu\n",
      "victoire\n",
      "match nul\n",
      "victoire\n",
      "perdu\n",
      "match nul\n",
      "victoire\n",
      "3\n"
     ]
    }
   ],
   "source": [
    "# 0: pierre, 1: papier, 2:ciseau\n",
    "import random\n",
    "\n",
    "victoire = \"victoire\"\n",
    "perdu= \"perdu\"\n",
    "match_nul=\"match nul\"\n",
    "t = 0\n",
    "a = 0\n",
    "while t < 3:\n",
    "    a = int(input(\"0, 1 ou 2\"))\n",
    "    b = random.randint(0, 2)\n",
    "    if (a == 2 and b == 1) or (a == 1 and b == 0) or (a == 0 and b == 2):\n",
    "        print(victoire)\n",
    "        t += 1\n",
    "    elif a == b:\n",
    "        print(match_nul)\n",
    "    else:\n",
    "        print(perdu)\n"
   ]
  },
  {
   "cell_type": "markdown",
   "id": "e5aa5e9e",
   "metadata": {},
   "source": [
    "**Exercice 5 :** Écrivez un programme pour vérifier la validité des mots de passe saisis par les utilisateurs.\n",
    "\n",
    "    -Au moins 1 lettre entre [a-z] et 1 lettre entre [A-Z].\n",
    "    -Au moins 1 chiffre entre [0-9].\n",
    "    -Au moins 1 caractère parmi [$#@].\n",
    "    -Longueur minimale de 6 caractères.\n",
    "    -Longueur maximale de 16 caractères.\n",
    "    \n",
    "La fonction *re.search()* du module *re* en Python est utilisée pour rechercher un motif (expression régulière) dans une chaîne de caractères. Voici la syntaxe simplifiée de re.search() : re.search(pattern, string)\n",
    "\n",
    "    -pattern : C'est le motif (expression régulière) que vous souhaitez rechercher dans la chaîne de caractères.\n",
    "    -string : C'est la chaîne de caractères dans laquelle vous souhaitez effectuer la recherche.\n",
    "    \n",
    "La fonction re.search() renvoie un objet de correspondance (match object) si le motif est trouvé dans la chaîne de caractères. Si le motif n'est pas trouvé, elle renvoie None.    "
   ]
  },
  {
   "cell_type": "code",
   "execution_count": 11,
   "id": "1cf672d7",
   "metadata": {},
   "outputs": [
    {
     "name": "stdout",
     "output_type": "stream",
     "text": [
      "6\n"
     ]
    }
   ],
   "source": [
    "import re\n",
    "\n",
    "mdp = input()\n",
    "i = mdp[0]\n",
    "b = 0\n",
    "\n",
    "if len(mdp) < 5 or len(mdp) > 17:\n",
    "    print(mdp)\n",
    "else:\n",
    "    print(len(mdp))\n"
   ]
  },
  {
   "cell_type": "code",
   "execution_count": null,
   "id": "58f759b7",
   "metadata": {},
   "outputs": [],
   "source": []
  }
 ],
 "metadata": {
  "kernelspec": {
   "display_name": "Python 3 (ipykernel)",
   "language": "python",
   "name": "python3"
  },
  "language_info": {
   "codemirror_mode": {
    "name": "ipython",
    "version": 3
   },
   "file_extension": ".py",
   "mimetype": "text/x-python",
   "name": "python",
   "nbconvert_exporter": "python",
   "pygments_lexer": "ipython3",
   "version": "3.11.4"
  }
 },
 "nbformat": 4,
 "nbformat_minor": 5
}
